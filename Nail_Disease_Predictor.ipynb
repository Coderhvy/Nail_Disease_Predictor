{
  "cells": [
    {
      "cell_type": "code",
      "execution_count": null,
      "metadata": {
        "colab": {
          "base_uri": "https://localhost:8080/"
        },
        "id": "h2qZZSOtK00x",
        "outputId": "9ab898e0-ec4e-4e67-8656-0cbed6ea747f"
      },
      "outputs": [
        {
          "output_type": "stream",
          "name": "stdout",
          "text": [
            "Mounted at /content/drive\n"
          ]
        }
      ],
      "source": [
        "from google.colab import drive\n",
        "drive.mount('/content/drive')"
      ]
    },
    {
      "cell_type": "code",
      "execution_count": null,
      "metadata": {
        "id": "0Fk9B5QsS64N"
      },
      "outputs": [],
      "source": [
        "import numpy as np\n",
        "import cv2\n",
        "from os import listdir\n",
        "import tensorflow as tf\n",
        "from tensorflow import keras\n",
        "from sklearn.preprocessing import LabelBinarizer\n",
        "from keras.models import Sequential\n",
        "from keras.layers import (\n",
        "    BatchNormalization, Conv2D, MaxPooling2D, Activation, Flatten, Dropout, Dense\n",
        ")\n",
        "from keras import backend as K\n",
        "from keras.preprocessing.image import ImageDataGenerator\n",
        "Adam = tf.keras.optimizers.Adam\n",
        "from keras.preprocessing import image\n",
        "from tensorflow.keras.utils import img_to_array\n",
        "from sklearn.preprocessing import MultiLabelBinarizer\n",
        "from sklearn.model_selection import train_test_split\n",
        "import matplotlib.pyplot as plt"
      ]
    },
    {
      "cell_type": "code",
      "execution_count": null,
      "metadata": {
        "id": "x2ZbXiNQj5zk"
      },
      "outputs": [],
      "source": [
        "EPOCHS = 100\n",
        "INIT_LR = 1e-3\n",
        "BS = 32\n",
        "default_image_size = tuple((256, 256))\n",
        "image_size = 0\n",
        "directory_root = '/content/drive/My Drive/nail_dataset_new'\n",
        "width=256\n",
        "height=256\n",
        "depth=3"
      ]
    },
    {
      "cell_type": "code",
      "execution_count": null,
      "metadata": {
        "id": "MJQ9JP3nqFl-"
      },
      "outputs": [],
      "source": [
        "def convert_image_to_array(image_dir):\n",
        "    try:\n",
        "        image = cv2.imread(image_dir)\n",
        "        if image is not None :\n",
        "            image = cv2.resize(image, default_image_size)   \n",
        "            return img_to_array(image)\n",
        "        else :\n",
        "            return np.array([])\n",
        "    except Exception as e:\n",
        "        print(f\"Error : {e}\")\n",
        "        return None"
      ]
    },
    {
      "cell_type": "code",
      "execution_count": null,
      "metadata": {
        "colab": {
          "base_uri": "https://localhost:8080/"
        },
        "id": "dVKFqTZ6qQg8",
        "outputId": "809c7bb0-e03e-4a11-bf70-9dcf1262ed0e"
      },
      "outputs": [
        {
          "output_type": "stream",
          "name": "stdout",
          "text": [
            "[INFO] Loading images ...\n",
            "Error : [Errno 2] No such file or directory: '/content/drive/My Drive/nail_dataset_new'\n"
          ]
        }
      ],
      "source": [
        "image_list, label_list = [], []\n",
        "try:\n",
        "    print(\"[INFO] Loading images ...\")\n",
        "    root_dir = listdir(directory_root)\n",
        "    for directory in root_dir :\n",
        "        # remove .DS_Store from list\n",
        "        if directory == \".DS_Store\" :\n",
        "            root_dir.remove(directory)\n",
        "\n",
        "    for nail_folder in root_dir :\n",
        "        nail_disease_folder_list = listdir(f\"{directory_root}/{nail_folder}\")\n",
        "        \n",
        "        for disease_folder in nail_disease_folder_list :\n",
        "            # remove .DS_Store from list\n",
        "            if disease_folder == \".DS_Store\" :\n",
        "                nail_disease_folder_list.remove(disease_folder)\n",
        "\n",
        "        for nail_disease_folder in nail_disease_folder_list:\n",
        "            print(f\"[INFO] Processing {nail_disease_folder} ...\")\n",
        "            nail_disease_image_list = listdir(f\"{directory_root}/{nail_folder}/{nail_disease_folder}/\")\n",
        "                \n",
        "            for single_nail_disease_image in nail_disease_image_list :\n",
        "                if single_nail_disease_image == \".DS_Store\" :\n",
        "                    nail_disease_image_list.remove(single_nail_disease_image)\n",
        "            for image in nail_disease_image_list[:200]:\n",
        "                image_directory = f\"{directory_root}/{nail_folder}/{nail_disease_folder}/{image}\"\n",
        "                if image_directory.endswith(\".png\") == True or image_directory.endswith(\".PNG\") == True:\n",
        "                    image_list.append(convert_image_to_array(image_directory))\n",
        "                    label_list.append(nail_disease_folder)\n",
        "    print(\"[INFO] Image loading completed\")  \n",
        "except Exception as e:\n",
        "    print(f\"Error : {e}\")"
      ]
    },
    {
      "cell_type": "code",
      "execution_count": null,
      "metadata": {
        "colab": {
          "base_uri": "https://localhost:8080/"
        },
        "id": "uy_KUpKat_bg",
        "outputId": "0e25de40-8941-4c5a-c323-382a0e3b802e"
      },
      "outputs": [
        {
          "output_type": "stream",
          "name": "stdout",
          "text": [
            "0\n"
          ]
        }
      ],
      "source": [
        "image_size = len(image_list)\n",
        "print(image_size)"
      ]
    },
    {
      "cell_type": "code",
      "execution_count": null,
      "metadata": {
        "id": "dybvPlI4uCZQ",
        "colab": {
          "base_uri": "https://localhost:8080/",
          "height": 396
        },
        "outputId": "38a38ee3-6d3a-4d4b-ab16-2ca6d4f16d00"
      },
      "outputs": [
        {
          "output_type": "error",
          "ename": "ValueError",
          "evalue": "ignored",
          "traceback": [
            "\u001b[0;31m---------------------------------------------------------------------------\u001b[0m",
            "\u001b[0;31mValueError\u001b[0m                                Traceback (most recent call last)",
            "\u001b[0;32m<ipython-input-8-4b60fdf9282e>\u001b[0m in \u001b[0;36m<module>\u001b[0;34m\u001b[0m\n\u001b[1;32m      1\u001b[0m \u001b[0;32mimport\u001b[0m \u001b[0mpickle\u001b[0m\u001b[0;34m\u001b[0m\u001b[0;34m\u001b[0m\u001b[0m\n\u001b[1;32m      2\u001b[0m \u001b[0mlabel_binarizer\u001b[0m \u001b[0;34m=\u001b[0m \u001b[0mLabelBinarizer\u001b[0m\u001b[0;34m(\u001b[0m\u001b[0;34m)\u001b[0m\u001b[0;34m\u001b[0m\u001b[0;34m\u001b[0m\u001b[0m\n\u001b[0;32m----> 3\u001b[0;31m \u001b[0mimage_labels\u001b[0m \u001b[0;34m=\u001b[0m \u001b[0mlabel_binarizer\u001b[0m\u001b[0;34m.\u001b[0m\u001b[0mfit_transform\u001b[0m\u001b[0;34m(\u001b[0m\u001b[0mlabel_list\u001b[0m\u001b[0;34m)\u001b[0m\u001b[0;34m\u001b[0m\u001b[0;34m\u001b[0m\u001b[0m\n\u001b[0m\u001b[1;32m      4\u001b[0m \u001b[0mpickle\u001b[0m\u001b[0;34m.\u001b[0m\u001b[0mdump\u001b[0m\u001b[0;34m(\u001b[0m\u001b[0mlabel_binarizer\u001b[0m\u001b[0;34m,\u001b[0m\u001b[0mopen\u001b[0m\u001b[0;34m(\u001b[0m\u001b[0;34m'label_transform.pkl'\u001b[0m\u001b[0;34m,\u001b[0m \u001b[0;34m'wb'\u001b[0m\u001b[0;34m)\u001b[0m\u001b[0;34m)\u001b[0m\u001b[0;34m\u001b[0m\u001b[0;34m\u001b[0m\u001b[0m\n\u001b[1;32m      5\u001b[0m \u001b[0mn_classes\u001b[0m \u001b[0;34m=\u001b[0m \u001b[0mlen\u001b[0m\u001b[0;34m(\u001b[0m\u001b[0mlabel_binarizer\u001b[0m\u001b[0;34m.\u001b[0m\u001b[0mclasses_\u001b[0m\u001b[0;34m)\u001b[0m\u001b[0;34m\u001b[0m\u001b[0;34m\u001b[0m\u001b[0m\n",
            "\u001b[0;32m/usr/local/lib/python3.7/dist-packages/sklearn/preprocessing/_label.py\u001b[0m in \u001b[0;36mfit_transform\u001b[0;34m(self, y)\u001b[0m\n\u001b[1;32m    322\u001b[0m             \u001b[0mwill\u001b[0m \u001b[0mbe\u001b[0m \u001b[0mof\u001b[0m \u001b[0mCSR\u001b[0m \u001b[0mformat\u001b[0m\u001b[0;34m.\u001b[0m\u001b[0;34m\u001b[0m\u001b[0;34m\u001b[0m\u001b[0m\n\u001b[1;32m    323\u001b[0m         \"\"\"\n\u001b[0;32m--> 324\u001b[0;31m         \u001b[0;32mreturn\u001b[0m \u001b[0mself\u001b[0m\u001b[0;34m.\u001b[0m\u001b[0mfit\u001b[0m\u001b[0;34m(\u001b[0m\u001b[0my\u001b[0m\u001b[0;34m)\u001b[0m\u001b[0;34m.\u001b[0m\u001b[0mtransform\u001b[0m\u001b[0;34m(\u001b[0m\u001b[0my\u001b[0m\u001b[0;34m)\u001b[0m\u001b[0;34m\u001b[0m\u001b[0;34m\u001b[0m\u001b[0m\n\u001b[0m\u001b[1;32m    325\u001b[0m \u001b[0;34m\u001b[0m\u001b[0m\n\u001b[1;32m    326\u001b[0m     \u001b[0;32mdef\u001b[0m \u001b[0mtransform\u001b[0m\u001b[0;34m(\u001b[0m\u001b[0mself\u001b[0m\u001b[0;34m,\u001b[0m \u001b[0my\u001b[0m\u001b[0;34m)\u001b[0m\u001b[0;34m:\u001b[0m\u001b[0;34m\u001b[0m\u001b[0;34m\u001b[0m\u001b[0m\n",
            "\u001b[0;32m/usr/local/lib/python3.7/dist-packages/sklearn/preprocessing/_label.py\u001b[0m in \u001b[0;36mfit\u001b[0;34m(self, y)\u001b[0m\n\u001b[1;32m    296\u001b[0m             )\n\u001b[1;32m    297\u001b[0m         \u001b[0;32mif\u001b[0m \u001b[0m_num_samples\u001b[0m\u001b[0;34m(\u001b[0m\u001b[0my\u001b[0m\u001b[0;34m)\u001b[0m \u001b[0;34m==\u001b[0m \u001b[0;36m0\u001b[0m\u001b[0;34m:\u001b[0m\u001b[0;34m\u001b[0m\u001b[0;34m\u001b[0m\u001b[0m\n\u001b[0;32m--> 298\u001b[0;31m             \u001b[0;32mraise\u001b[0m \u001b[0mValueError\u001b[0m\u001b[0;34m(\u001b[0m\u001b[0;34m\"y has 0 samples: %r\"\u001b[0m \u001b[0;34m%\u001b[0m \u001b[0my\u001b[0m\u001b[0;34m)\u001b[0m\u001b[0;34m\u001b[0m\u001b[0;34m\u001b[0m\u001b[0m\n\u001b[0m\u001b[1;32m    299\u001b[0m \u001b[0;34m\u001b[0m\u001b[0m\n\u001b[1;32m    300\u001b[0m         \u001b[0mself\u001b[0m\u001b[0;34m.\u001b[0m\u001b[0msparse_input_\u001b[0m \u001b[0;34m=\u001b[0m \u001b[0msp\u001b[0m\u001b[0;34m.\u001b[0m\u001b[0missparse\u001b[0m\u001b[0;34m(\u001b[0m\u001b[0my\u001b[0m\u001b[0;34m)\u001b[0m\u001b[0;34m\u001b[0m\u001b[0;34m\u001b[0m\u001b[0m\n",
            "\u001b[0;31mValueError\u001b[0m: y has 0 samples: []"
          ]
        }
      ],
      "source": [
        "import pickle\n",
        "label_binarizer = LabelBinarizer()\n",
        "image_labels = label_binarizer.fit_transform(label_list)\n",
        "pickle.dump(label_binarizer,open('label_transform.pkl', 'wb'))\n",
        "n_classes = len(label_binarizer.classes_)"
      ]
    },
    {
      "cell_type": "code",
      "execution_count": null,
      "metadata": {
        "colab": {
          "base_uri": "https://localhost:8080/"
        },
        "id": "xd1BdU-jvKWx",
        "outputId": "ef1622a1-d50d-49cc-ce10-ef478f4f980d"
      },
      "outputs": [
        {
          "name": "stdout",
          "output_type": "stream",
          "text": [
            "[\"Darier's disease\" \"Muehrck-e's lines\" 'aloperia areata' \"beau's lines\"\n",
            " 'bluish nail' 'clubbing' 'eczema'\n",
            " \"half and half nailes (Lindsay's nails)\" 'koilonychia' 'leukonychia'\n",
            " 'onycholycis' 'pale nail' 'red lunula' 'splinter hemmorrage'\n",
            " \"terry's nail\" 'whitenail' 'yellow nails']\n"
          ]
        }
      ],
      "source": [
        "print(label_binarizer.classes_)"
      ]
    },
    {
      "cell_type": "code",
      "execution_count": null,
      "metadata": {
        "id": "LyUeZhRLvN6Q"
      },
      "outputs": [],
      "source": [
        "np_image_list = np.array(image_list, dtype=np.float16) / 225.0"
      ]
    },
    {
      "cell_type": "code",
      "execution_count": null,
      "metadata": {
        "colab": {
          "base_uri": "https://localhost:8080/"
        },
        "id": "8sKsBncgvOU8",
        "outputId": "81f4e01f-0331-4f3f-9d74-165bc2e6d75a"
      },
      "outputs": [
        {
          "name": "stdout",
          "output_type": "stream",
          "text": [
            "[INFO] Spliting data to train, test\n"
          ]
        }
      ],
      "source": [
        "print(\"[INFO] Spliting data to train, test\")\n",
        "x_train, x_test, y_train, y_test = train_test_split(np_image_list, image_labels, test_size=0.1, random_state = 42)"
      ]
    },
    {
      "cell_type": "code",
      "execution_count": null,
      "metadata": {
        "id": "VMLVSIO3vYaC"
      },
      "outputs": [],
      "source": [
        "aug = ImageDataGenerator(\n",
        "    rotation_range=25, width_shift_range=0.1,\n",
        "    height_shift_range=0.1, shear_range=0.2, \n",
        "    zoom_range=0.2,horizontal_flip=True, \n",
        "    fill_mode=\"nearest\")"
      ]
    },
    {
      "cell_type": "code",
      "execution_count": null,
      "metadata": {
        "id": "bKkbglnqvflL"
      },
      "outputs": [],
      "source": [
        "model = Sequential()\n",
        "inputShape = (height, width, depth)\n",
        "chanDim = -1\n",
        "if K.image_data_format() == \"channels_first\":\n",
        "    inputShape = (depth, height, width)\n",
        "    chanDim = 1\n",
        "model.add(Conv2D(32, (3, 3), padding=\"same\",input_shape=inputShape))\n",
        "model.add(Activation(\"relu\"))\n",
        "model.add(BatchNormalization(axis=chanDim))\n",
        "model.add(MaxPooling2D(pool_size=(3, 3)))\n",
        "model.add(Dropout(0.25))\n",
        "model.add(Conv2D(64, (3, 3), padding=\"same\"))\n",
        "model.add(Activation(\"relu\"))\n",
        "model.add(BatchNormalization(axis=chanDim))\n",
        "model.add(Conv2D(64, (3, 3), padding=\"same\"))\n",
        "model.add(Activation(\"relu\"))\n",
        "model.add(BatchNormalization(axis=chanDim))\n",
        "model.add(MaxPooling2D(pool_size=(2, 2)))\n",
        "model.add(Dropout(0.25))\n",
        "model.add(Conv2D(128, (3, 3), padding=\"same\"))\n",
        "model.add(Activation(\"relu\"))\n",
        "model.add(BatchNormalization(axis=chanDim))\n",
        "model.add(Conv2D(128, (3, 3), padding=\"same\"))\n",
        "model.add(Activation(\"relu\"))\n",
        "model.add(BatchNormalization(axis=chanDim))\n",
        "model.add(MaxPooling2D(pool_size=(2, 2)))\n",
        "model.add(Dropout(0.25))\n",
        "model.add(Flatten())\n",
        "model.add(Dense(1024))\n",
        "model.add(Activation(\"relu\"))\n",
        "model.add(BatchNormalization())\n",
        "model.add(Dropout(0.25))\n",
        "model.add(Dense(n_classes))\n",
        "model.add(Activation(\"softmax\"))\n"
      ]
    },
    {
      "cell_type": "code",
      "execution_count": null,
      "metadata": {
        "colab": {
          "base_uri": "https://localhost:8080/"
        },
        "id": "hX7HuVEBvy_m",
        "outputId": "ac166f49-6cd3-4d57-eeb9-c712d8ed9bbd"
      },
      "outputs": [
        {
          "name": "stdout",
          "output_type": "stream",
          "text": [
            "Model: \"sequential_6\"\n",
            "_________________________________________________________________\n",
            " Layer (type)                Output Shape              Param #   \n",
            "=================================================================\n",
            " conv2d_30 (Conv2D)          (None, 256, 256, 32)      896       \n",
            "                                                                 \n",
            " activation_42 (Activation)  (None, 256, 256, 32)      0         \n",
            "                                                                 \n",
            " batch_normalization_36 (Bat  (None, 256, 256, 32)     128       \n",
            " chNormalization)                                                \n",
            "                                                                 \n",
            " max_pooling2d_18 (MaxPoolin  (None, 85, 85, 32)       0         \n",
            " g2D)                                                            \n",
            "                                                                 \n",
            " dropout_24 (Dropout)        (None, 85, 85, 32)        0         \n",
            "                                                                 \n",
            " conv2d_31 (Conv2D)          (None, 85, 85, 64)        18496     \n",
            "                                                                 \n",
            " activation_43 (Activation)  (None, 85, 85, 64)        0         \n",
            "                                                                 \n",
            " batch_normalization_37 (Bat  (None, 85, 85, 64)       256       \n",
            " chNormalization)                                                \n",
            "                                                                 \n",
            " conv2d_32 (Conv2D)          (None, 85, 85, 64)        36928     \n",
            "                                                                 \n",
            " activation_44 (Activation)  (None, 85, 85, 64)        0         \n",
            "                                                                 \n",
            " batch_normalization_38 (Bat  (None, 85, 85, 64)       256       \n",
            " chNormalization)                                                \n",
            "                                                                 \n",
            " max_pooling2d_19 (MaxPoolin  (None, 42, 42, 64)       0         \n",
            " g2D)                                                            \n",
            "                                                                 \n",
            " dropout_25 (Dropout)        (None, 42, 42, 64)        0         \n",
            "                                                                 \n",
            " conv2d_33 (Conv2D)          (None, 42, 42, 128)       73856     \n",
            "                                                                 \n",
            " activation_45 (Activation)  (None, 42, 42, 128)       0         \n",
            "                                                                 \n",
            " batch_normalization_39 (Bat  (None, 42, 42, 128)      512       \n",
            " chNormalization)                                                \n",
            "                                                                 \n",
            " conv2d_34 (Conv2D)          (None, 42, 42, 128)       147584    \n",
            "                                                                 \n",
            " activation_46 (Activation)  (None, 42, 42, 128)       0         \n",
            "                                                                 \n",
            " batch_normalization_40 (Bat  (None, 42, 42, 128)      512       \n",
            " chNormalization)                                                \n",
            "                                                                 \n",
            " max_pooling2d_20 (MaxPoolin  (None, 21, 21, 128)      0         \n",
            " g2D)                                                            \n",
            "                                                                 \n",
            " dropout_26 (Dropout)        (None, 21, 21, 128)       0         \n",
            "                                                                 \n",
            " flatten_6 (Flatten)         (None, 56448)             0         \n",
            "                                                                 \n",
            " dense_12 (Dense)            (None, 1024)              57803776  \n",
            "                                                                 \n",
            " activation_47 (Activation)  (None, 1024)              0         \n",
            "                                                                 \n",
            " batch_normalization_41 (Bat  (None, 1024)             4096      \n",
            " chNormalization)                                                \n",
            "                                                                 \n",
            " dropout_27 (Dropout)        (None, 1024)              0         \n",
            "                                                                 \n",
            " dense_13 (Dense)            (None, 17)                17425     \n",
            "                                                                 \n",
            " activation_48 (Activation)  (None, 17)                0         \n",
            "                                                                 \n",
            "=================================================================\n",
            "Total params: 58,104,721\n",
            "Trainable params: 58,101,841\n",
            "Non-trainable params: 2,880\n",
            "_________________________________________________________________\n"
          ]
        }
      ],
      "source": [
        "model.summary()"
      ]
    },
    {
      "cell_type": "code",
      "execution_count": null,
      "metadata": {
        "colab": {
          "base_uri": "https://localhost:8080/"
        },
        "id": "LUqsKpFnv2UE",
        "outputId": "d6242856-d44b-4551-8ccb-238be05f5e54"
      },
      "outputs": [
        {
          "name": "stdout",
          "output_type": "stream",
          "text": [
            "[INFO] training network...\n"
          ]
        }
      ],
      "source": [
        "opt = Adam(learning_rate=INIT_LR, decay=INIT_LR / EPOCHS)\n",
        "# distribution\n",
        "model.compile(loss=\"binary_crossentropy\", optimizer=opt,metrics=[\"accuracy\"])\n",
        "# train the network\n",
        "print(\"[INFO] training network...\")"
      ]
    },
    {
      "cell_type": "code",
      "execution_count": null,
      "metadata": {
        "colab": {
          "background_save": true,
          "base_uri": "https://localhost:8080/"
        },
        "id": "t1BOA1ftyOM4",
        "outputId": "46cba9e8-7745-43ab-ff2b-04b3ba096be2"
      },
      "outputs": [
        {
          "name": "stdout",
          "output_type": "stream",
          "text": [
            "Epoch 1/100\n",
            "18/18 [==============================] - 9s 455ms/step - loss: 0.8449 - accuracy: 0.1346 - val_loss: 0.7461 - val_accuracy: 0.0152\n",
            "Epoch 2/100\n",
            "18/18 [==============================] - 7s 410ms/step - loss: 0.6492 - accuracy: 0.1670 - val_loss: 0.6747 - val_accuracy: 0.0303\n",
            "Epoch 3/100\n",
            "18/18 [==============================] - 7s 428ms/step - loss: 0.5216 - accuracy: 0.1849 - val_loss: 0.4957 - val_accuracy: 0.0152\n",
            "Epoch 4/100\n",
            "18/18 [==============================] - 7s 406ms/step - loss: 0.3720 - accuracy: 0.2029 - val_loss: 1.0058 - val_accuracy: 0.0606\n",
            "Epoch 5/100\n",
            "18/18 [==============================] - 7s 409ms/step - loss: 0.2839 - accuracy: 0.1885 - val_loss: 1.9429 - val_accuracy: 0.0455\n",
            "Epoch 6/100\n",
            "18/18 [==============================] - 7s 410ms/step - loss: 0.2278 - accuracy: 0.2226 - val_loss: 2.8832 - val_accuracy: 0.0455\n",
            "Epoch 7/100\n",
            "18/18 [==============================] - 7s 405ms/step - loss: 0.2016 - accuracy: 0.2873 - val_loss: 2.9607 - val_accuracy: 0.0606\n",
            "Epoch 8/100\n",
            "18/18 [==============================] - 7s 410ms/step - loss: 0.1886 - accuracy: 0.3609 - val_loss: 2.7245 - val_accuracy: 0.0758\n",
            "Epoch 9/100\n",
            "18/18 [==============================] - 7s 411ms/step - loss: 0.1791 - accuracy: 0.3770 - val_loss: 6.0793 - val_accuracy: 0.0909\n",
            "Epoch 10/100\n",
            "18/18 [==============================] - 7s 408ms/step - loss: 0.1816 - accuracy: 0.3716 - val_loss: 5.1299 - val_accuracy: 0.0606\n",
            "Epoch 11/100\n",
            "18/18 [==============================] - 7s 412ms/step - loss: 0.2263 - accuracy: 0.3142 - val_loss: 0.9146 - val_accuracy: 0.1515\n",
            "Epoch 12/100\n",
            "18/18 [==============================] - 7s 410ms/step - loss: 0.2050 - accuracy: 0.3393 - val_loss: 0.7556 - val_accuracy: 0.0303\n",
            "Epoch 13/100\n",
            "18/18 [==============================] - 7s 408ms/step - loss: 0.1947 - accuracy: 0.3465 - val_loss: 0.3736 - val_accuracy: 0.1212\n",
            "Epoch 14/100\n",
            "18/18 [==============================] - 7s 408ms/step - loss: 0.1852 - accuracy: 0.3914 - val_loss: 0.3374 - val_accuracy: 0.0758\n",
            "Epoch 15/100\n",
            "18/18 [==============================] - 7s 411ms/step - loss: 0.1781 - accuracy: 0.4075 - val_loss: 0.3014 - val_accuracy: 0.1364\n",
            "Epoch 16/100\n",
            "18/18 [==============================] - 8s 469ms/step - loss: 0.1667 - accuracy: 0.4506 - val_loss: 0.2974 - val_accuracy: 0.1515\n",
            "Epoch 17/100\n",
            "18/18 [==============================] - 8s 413ms/step - loss: 0.1724 - accuracy: 0.4201 - val_loss: 0.2991 - val_accuracy: 0.1818\n",
            "Epoch 18/100\n",
            "18/18 [==============================] - 7s 409ms/step - loss: 0.1557 - accuracy: 0.4919 - val_loss: 0.3357 - val_accuracy: 0.1667\n",
            "Epoch 19/100\n",
            "18/18 [==============================] - 7s 411ms/step - loss: 0.1530 - accuracy: 0.5081 - val_loss: 0.3079 - val_accuracy: 0.1515\n",
            "Epoch 20/100\n",
            "18/18 [==============================] - 7s 409ms/step - loss: 0.1438 - accuracy: 0.5350 - val_loss: 0.3053 - val_accuracy: 0.1212\n",
            "Epoch 21/100\n",
            "18/18 [==============================] - 7s 405ms/step - loss: 0.1350 - accuracy: 0.5727 - val_loss: 0.2862 - val_accuracy: 0.2121\n",
            "Epoch 22/100\n",
            "18/18 [==============================] - 7s 411ms/step - loss: 0.1328 - accuracy: 0.5799 - val_loss: 0.3161 - val_accuracy: 0.1212\n",
            "Epoch 23/100\n",
            "18/18 [==============================] - 8s 411ms/step - loss: 0.1277 - accuracy: 0.5978 - val_loss: 0.2701 - val_accuracy: 0.2121\n",
            "Epoch 24/100\n",
            "18/18 [==============================] - 8s 411ms/step - loss: 0.1177 - accuracy: 0.6715 - val_loss: 0.2593 - val_accuracy: 0.1970\n",
            "Epoch 25/100\n",
            "18/18 [==============================] - 7s 405ms/step - loss: 0.1268 - accuracy: 0.6230 - val_loss: 0.2679 - val_accuracy: 0.2273\n",
            "Epoch 26/100\n",
            "18/18 [==============================] - 8s 412ms/step - loss: 0.1335 - accuracy: 0.6122 - val_loss: 0.3420 - val_accuracy: 0.1667\n",
            "Epoch 27/100\n",
            "18/18 [==============================] - 7s 409ms/step - loss: 0.1434 - accuracy: 0.5691 - val_loss: 0.2533 - val_accuracy: 0.2121\n",
            "Epoch 28/100\n",
            "18/18 [==============================] - 7s 404ms/step - loss: 0.1283 - accuracy: 0.6266 - val_loss: 0.2237 - val_accuracy: 0.2879\n",
            "Epoch 29/100\n",
            "18/18 [==============================] - 7s 410ms/step - loss: 0.1261 - accuracy: 0.6140 - val_loss: 0.1964 - val_accuracy: 0.3485\n",
            "Epoch 30/100\n",
            "18/18 [==============================] - 7s 405ms/step - loss: 0.1279 - accuracy: 0.6212 - val_loss: 0.2252 - val_accuracy: 0.3182\n",
            "Epoch 31/100\n",
            "18/18 [==============================] - 7s 408ms/step - loss: 0.1190 - accuracy: 0.6643 - val_loss: 0.2017 - val_accuracy: 0.4545\n",
            "Epoch 32/100\n",
            "18/18 [==============================] - 7s 407ms/step - loss: 0.1120 - accuracy: 0.6840 - val_loss: 0.2257 - val_accuracy: 0.4091\n",
            "Epoch 33/100\n",
            "18/18 [==============================] - 7s 406ms/step - loss: 0.1037 - accuracy: 0.7074 - val_loss: 0.1674 - val_accuracy: 0.5152\n",
            "Epoch 34/100\n",
            "18/18 [==============================] - 7s 409ms/step - loss: 0.0999 - accuracy: 0.7145 - val_loss: 0.1626 - val_accuracy: 0.5455\n",
            "Epoch 35/100\n",
            "18/18 [==============================] - 7s 410ms/step - loss: 0.0940 - accuracy: 0.7487 - val_loss: 0.1673 - val_accuracy: 0.5455\n",
            "Epoch 36/100\n",
            "18/18 [==============================] - 7s 404ms/step - loss: 0.0833 - accuracy: 0.7864 - val_loss: 0.1584 - val_accuracy: 0.5152\n",
            "Epoch 37/100\n",
            "18/18 [==============================] - 7s 424ms/step - loss: 0.0831 - accuracy: 0.8043 - val_loss: 0.1644 - val_accuracy: 0.5303\n",
            "Epoch 38/100\n",
            "18/18 [==============================] - 7s 405ms/step - loss: 0.0791 - accuracy: 0.8061 - val_loss: 0.2044 - val_accuracy: 0.4242\n",
            "Epoch 39/100\n",
            "18/18 [==============================] - 8s 412ms/step - loss: 0.0858 - accuracy: 0.7846 - val_loss: 0.2342 - val_accuracy: 0.3636\n",
            "Epoch 40/100\n",
            "18/18 [==============================] - 7s 406ms/step - loss: 0.1116 - accuracy: 0.6822 - val_loss: 0.3183 - val_accuracy: 0.2273\n",
            "Epoch 41/100\n",
            "18/18 [==============================] - 7s 410ms/step - loss: 0.0929 - accuracy: 0.7522 - val_loss: 0.2354 - val_accuracy: 0.3333\n",
            "Epoch 42/100\n",
            "18/18 [==============================] - 7s 412ms/step - loss: 0.0883 - accuracy: 0.7792 - val_loss: 0.3204 - val_accuracy: 0.2576\n",
            "Epoch 43/100\n",
            "18/18 [==============================] - 7s 408ms/step - loss: 0.0912 - accuracy: 0.7630 - val_loss: 0.1872 - val_accuracy: 0.4394\n",
            "Epoch 44/100\n",
            "18/18 [==============================] - 7s 405ms/step - loss: 0.0863 - accuracy: 0.7612 - val_loss: 0.3485 - val_accuracy: 0.1667\n",
            "Epoch 45/100\n",
            "18/18 [==============================] - 7s 409ms/step - loss: 0.0770 - accuracy: 0.8187 - val_loss: 0.1763 - val_accuracy: 0.5455\n",
            "Epoch 46/100\n",
            "18/18 [==============================] - 7s 410ms/step - loss: 0.0788 - accuracy: 0.8025 - val_loss: 0.2993 - val_accuracy: 0.2879\n",
            "Epoch 47/100\n",
            "18/18 [==============================] - 8s 421ms/step - loss: 0.0686 - accuracy: 0.8403 - val_loss: 0.1569 - val_accuracy: 0.5758\n",
            "Epoch 48/100\n",
            "18/18 [==============================] - 7s 407ms/step - loss: 0.0765 - accuracy: 0.8223 - val_loss: 0.1950 - val_accuracy: 0.5000\n",
            "Epoch 49/100\n",
            "18/18 [==============================] - 7s 410ms/step - loss: 0.0730 - accuracy: 0.8223 - val_loss: 0.1668 - val_accuracy: 0.5455\n",
            "Epoch 50/100\n",
            "18/18 [==============================] - 8s 412ms/step - loss: 0.0689 - accuracy: 0.8582 - val_loss: 0.1718 - val_accuracy: 0.4848\n",
            "Epoch 51/100\n",
            "18/18 [==============================] - 8s 413ms/step - loss: 0.0592 - accuracy: 0.8725 - val_loss: 0.1638 - val_accuracy: 0.6212\n",
            "Epoch 52/100\n",
            "18/18 [==============================] - 7s 407ms/step - loss: 0.0545 - accuracy: 0.8815 - val_loss: 0.1527 - val_accuracy: 0.6212\n",
            "Epoch 53/100\n",
            "18/18 [==============================] - 7s 410ms/step - loss: 0.0585 - accuracy: 0.8743 - val_loss: 0.1860 - val_accuracy: 0.5455\n",
            "Epoch 54/100\n",
            "18/18 [==============================] - 8s 421ms/step - loss: 0.0574 - accuracy: 0.8872 - val_loss: 0.1862 - val_accuracy: 0.5758\n",
            "Epoch 55/100\n",
            "18/18 [==============================] - 8s 411ms/step - loss: 0.0537 - accuracy: 0.8851 - val_loss: 0.2165 - val_accuracy: 0.3788\n",
            "Epoch 56/100\n",
            "18/18 [==============================] - 7s 410ms/step - loss: 0.0560 - accuracy: 0.8797 - val_loss: 0.1793 - val_accuracy: 0.5000\n",
            "Epoch 57/100\n",
            "18/18 [==============================] - 7s 410ms/step - loss: 0.0627 - accuracy: 0.8779 - val_loss: 0.1672 - val_accuracy: 0.6364\n",
            "Epoch 58/100\n",
            "18/18 [==============================] - 7s 408ms/step - loss: 0.0546 - accuracy: 0.8869 - val_loss: 0.2042 - val_accuracy: 0.5303\n",
            "Epoch 59/100\n",
            "18/18 [==============================] - 7s 406ms/step - loss: 0.0544 - accuracy: 0.8887 - val_loss: 0.1573 - val_accuracy: 0.6667\n",
            "Epoch 60/100\n",
            "18/18 [==============================] - 7s 409ms/step - loss: 0.0534 - accuracy: 0.8869 - val_loss: 0.2265 - val_accuracy: 0.4091\n",
            "Epoch 61/100\n",
            "18/18 [==============================] - 7s 407ms/step - loss: 0.0524 - accuracy: 0.8887 - val_loss: 0.1847 - val_accuracy: 0.5758\n",
            "Epoch 62/100\n",
            "18/18 [==============================] - 7s 404ms/step - loss: 0.0463 - accuracy: 0.9336 - val_loss: 0.1712 - val_accuracy: 0.6212\n",
            "Epoch 63/100\n",
            "18/18 [==============================] - 7s 406ms/step - loss: 0.0488 - accuracy: 0.9066 - val_loss: 0.2020 - val_accuracy: 0.5606\n",
            "Epoch 64/100\n",
            "18/18 [==============================] - 8s 418ms/step - loss: 0.0529 - accuracy: 0.8924 - val_loss: 0.1850 - val_accuracy: 0.6061\n",
            "Epoch 65/100\n",
            "18/18 [==============================] - 7s 406ms/step - loss: 0.0486 - accuracy: 0.9138 - val_loss: 0.1881 - val_accuracy: 0.5758\n",
            "Epoch 66/100\n",
            "18/18 [==============================] - 7s 409ms/step - loss: 0.1077 - accuracy: 0.6966 - val_loss: 0.4558 - val_accuracy: 0.1818\n",
            "Epoch 67/100\n",
            "18/18 [==============================] - 7s 400ms/step - loss: 0.0849 - accuracy: 0.7738 - val_loss: 0.4402 - val_accuracy: 0.1970\n",
            "Epoch 68/100\n",
            "18/18 [==============================] - 7s 405ms/step - loss: 0.0719 - accuracy: 0.8312 - val_loss: 0.2559 - val_accuracy: 0.4545\n",
            "Epoch 69/100\n",
            "18/18 [==============================] - 7s 403ms/step - loss: 0.0616 - accuracy: 0.8474 - val_loss: 0.2153 - val_accuracy: 0.4242\n",
            "Epoch 70/100\n",
            "18/18 [==============================] - 7s 405ms/step - loss: 0.0534 - accuracy: 0.9013 - val_loss: 0.2056 - val_accuracy: 0.4848\n",
            "Epoch 71/100\n",
            "18/18 [==============================] - 7s 399ms/step - loss: 0.0507 - accuracy: 0.8959 - val_loss: 0.2058 - val_accuracy: 0.5000\n",
            "Epoch 72/100\n",
            "18/18 [==============================] - 7s 403ms/step - loss: 0.0559 - accuracy: 0.8833 - val_loss: 0.3349 - val_accuracy: 0.3030\n",
            "Epoch 73/100\n",
            "18/18 [==============================] - 7s 400ms/step - loss: 0.0465 - accuracy: 0.9066 - val_loss: 0.2395 - val_accuracy: 0.2424\n",
            "Epoch 74/100\n",
            "18/18 [==============================] - 7s 403ms/step - loss: 0.0488 - accuracy: 0.8941 - val_loss: 0.2294 - val_accuracy: 0.3333\n",
            "Epoch 75/100\n",
            "18/18 [==============================] - 7s 406ms/step - loss: 0.0435 - accuracy: 0.9246 - val_loss: 0.1875 - val_accuracy: 0.5000\n",
            "Epoch 76/100\n",
            "18/18 [==============================] - 7s 403ms/step - loss: 0.0431 - accuracy: 0.9156 - val_loss: 0.3056 - val_accuracy: 0.2727\n",
            "Epoch 77/100\n",
            "18/18 [==============================] - 7s 406ms/step - loss: 0.0527 - accuracy: 0.8887 - val_loss: 0.2690 - val_accuracy: 0.2879\n",
            "Epoch 78/100\n",
            "18/18 [==============================] - 7s 405ms/step - loss: 0.0421 - accuracy: 0.9102 - val_loss: 0.1629 - val_accuracy: 0.5909\n",
            "Epoch 79/100\n",
            "18/18 [==============================] - 7s 404ms/step - loss: 0.0377 - accuracy: 0.9264 - val_loss: 0.1579 - val_accuracy: 0.6061\n",
            "Epoch 80/100\n",
            "18/18 [==============================] - 7s 404ms/step - loss: 0.0376 - accuracy: 0.9300 - val_loss: 0.1873 - val_accuracy: 0.5758\n",
            "Epoch 81/100\n",
            "18/18 [==============================] - 7s 404ms/step - loss: 0.0379 - accuracy: 0.9372 - val_loss: 0.1771 - val_accuracy: 0.5455\n",
            "Epoch 82/100\n",
            "18/18 [==============================] - 7s 408ms/step - loss: 0.0379 - accuracy: 0.9300 - val_loss: 0.2290 - val_accuracy: 0.5303\n",
            "Epoch 83/100\n",
            "18/18 [==============================] - 8s 421ms/step - loss: 0.0378 - accuracy: 0.9358 - val_loss: 0.2077 - val_accuracy: 0.6212\n",
            "Epoch 84/100\n",
            "18/18 [==============================] - 8s 464ms/step - loss: 0.0351 - accuracy: 0.9408 - val_loss: 0.1673 - val_accuracy: 0.6061\n",
            "Epoch 85/100\n",
            "18/18 [==============================] - 7s 412ms/step - loss: 0.0336 - accuracy: 0.9497 - val_loss: 0.1577 - val_accuracy: 0.6515\n",
            "Epoch 86/100\n",
            "18/18 [==============================] - 8s 432ms/step - loss: 0.1752 - accuracy: 0.4901 - val_loss: 14.1079 - val_accuracy: 0.0758\n",
            "Epoch 87/100\n",
            "18/18 [==============================] - 8s 413ms/step - loss: 0.1710 - accuracy: 0.5117 - val_loss: 6.4251 - val_accuracy: 0.0909\n",
            "Epoch 88/100\n",
            "18/18 [==============================] - 7s 405ms/step - loss: 0.1259 - accuracy: 0.6409 - val_loss: 3.0127 - val_accuracy: 0.1212\n",
            "Epoch 89/100\n",
            "18/18 [==============================] - 7s 406ms/step - loss: 0.1073 - accuracy: 0.6912 - val_loss: 2.1129 - val_accuracy: 0.1212\n",
            "Epoch 90/100\n",
            "18/18 [==============================] - 8s 419ms/step - loss: 0.0850 - accuracy: 0.7726 - val_loss: 1.0153 - val_accuracy: 0.1667\n",
            "Epoch 91/100\n",
            "18/18 [==============================] - 7s 402ms/step - loss: 0.0860 - accuracy: 0.7738 - val_loss: 0.7396 - val_accuracy: 0.1818\n",
            "Epoch 92/100\n",
            "18/18 [==============================] - 7s 406ms/step - loss: 0.0713 - accuracy: 0.8312 - val_loss: 0.4200 - val_accuracy: 0.2273\n",
            "Epoch 93/100\n",
            "18/18 [==============================] - 7s 403ms/step - loss: 0.0730 - accuracy: 0.8061 - val_loss: 0.4544 - val_accuracy: 0.1667\n",
            "Epoch 94/100\n",
            "18/18 [==============================] - 7s 406ms/step - loss: 0.0619 - accuracy: 0.8438 - val_loss: 0.3576 - val_accuracy: 0.2273\n",
            "Epoch 95/100\n",
            "18/18 [==============================] - 7s 402ms/step - loss: 0.0611 - accuracy: 0.8564 - val_loss: 0.2636 - val_accuracy: 0.3636\n",
            "Epoch 96/100\n",
            "18/18 [==============================] - 7s 406ms/step - loss: 0.0566 - accuracy: 0.8654 - val_loss: 0.2621 - val_accuracy: 0.3939\n",
            "Epoch 97/100\n",
            "18/18 [==============================] - 7s 404ms/step - loss: 0.0526 - accuracy: 0.8725 - val_loss: 0.2435 - val_accuracy: 0.4091\n",
            "Epoch 98/100\n",
            "18/18 [==============================] - 7s 405ms/step - loss: 0.0493 - accuracy: 0.9031 - val_loss: 0.2320 - val_accuracy: 0.4242\n",
            "Epoch 99/100\n",
            "18/18 [==============================] - 7s 402ms/step - loss: 0.0482 - accuracy: 0.8869 - val_loss: 0.2109 - val_accuracy: 0.4848\n",
            "Epoch 100/100\n",
            "18/18 [==============================] - 8s 421ms/step - loss: 0.0492 - accuracy: 0.8837 - val_loss: 0.1936 - val_accuracy: 0.5758\n"
          ]
        }
      ],
      "source": [
        "history = model.fit(\n",
        "    aug.flow(x_train, y_train, batch_size=BS),\n",
        "    validation_data=(x_test, y_test),\n",
        "    steps_per_epoch=len(x_train) // BS,\n",
        "    epochs=EPOCHS, verbose=1\n",
        "    )"
      ]
    },
    {
      "cell_type": "code",
      "execution_count": null,
      "metadata": {
        "colab": {
          "base_uri": "https://localhost:8080/",
          "height": 545
        },
        "id": "BJZ39pZiyuU2",
        "outputId": "7d03effa-451e-45ba-9591-adf8b5889b14"
      },
      "outputs": [
        {
          "data": {
            "image/png": "[encoded data removed]",
            "text/plain": [
              "<Figure size 432x288 with 1 Axes>"
            ]
          },
          "metadata": {},
          "output_type": "display_data"
        },
        {
          "data": {
            "image/png": "[encoded data removed]",
            "text/plain": [
              "<Figure size 432x288 with 1 Axes>"
            ]
          },
          "metadata": {},
          "output_type": "display_data"
        }
      ],
      "source": [
        "acc = history.history['accuracy']\n",
        "val_acc = history.history['val_accuracy']\n",
        "loss = history.history['loss']\n",
        "val_loss = history.history['val_loss']\n",
        "epochs = range(1, len(acc) + 1)\n",
        "#Train and validation accuracy\n",
        "plt.plot(epochs, acc, 'b', label='Training accurarcy')\n",
        "plt.plot(epochs, val_acc, 'r', label='Validation accurarcy')\n",
        "plt.title('Training and Validation accurarcy')\n",
        "plt.legend()\n",
        "\n",
        "plt.figure()\n",
        "#Train and validation loss\n",
        "plt.plot(epochs, loss, 'b', label='Training loss')\n",
        "plt.plot(epochs, val_loss, 'r', label='Validation loss')\n",
        "plt.title('Training and Validation loss')\n",
        "plt.legend()\n",
        "plt.show()"
      ]
    },
    {
      "cell_type": "code",
      "execution_count": null,
      "metadata": {
        "colab": {
          "base_uri": "https://localhost:8080/"
        },
        "id": "vYwSgokhy2JC",
        "outputId": "9d1aae17-c7a1-4e2a-9083-ca00e5455ff3"
      },
      "outputs": [
        {
          "name": "stdout",
          "output_type": "stream",
          "text": [
            "[INFO] Calculating model accuracy\n",
            "5/5 [==============================] - 0s 30ms/step - loss: 0.1896 - accuracy: 0.6412\n",
            "Test Accuracy: 64.12213444709778\n"
          ]
        }
      ],
      "source": [
        "print(\"[INFO] Calculating model accuracy\")\n",
        "scores = model.evaluate(x_test, y_test)\n",
        "print(f\"Test Accuracy: {scores[1]*100}\")"
      ]
    },
    {
      "cell_type": "code",
      "execution_count": null,
      "metadata": {
        "id": "K1ZGwRAay3k0"
      },
      "outputs": [],
      "source": [
        "print(\"[INFO] Saving model...\")\n",
        "pickle.dump(model,open('cnn_model.pkl', 'wb'))"
      ]
    },
    {
      "cell_type": "code",
      "execution_count": null,
      "metadata": {
        "id": "u77dURi1zBGc"
      },
      "outputs": [],
      "source": [
        "print(\"[INFO] Saving model\")\n",
        "model.save(\"nailmodel.h5\")"
      ]
    },
    {
      "cell_type": "code",
      "execution_count": null,
      "metadata": {
        "id": "XiXIcqkHyqlw"
      },
      "outputs": [],
      "source": [
        "image_dir='/content/drive/My Drive/nail_dataset_new/nail_diseases/whitenail/14.PNG'\n",
        "def convert_image_to_array(image_dir):\n",
        "    try:\n",
        "        image = cv2.imread(image_dir)\n",
        "        if image is not None :\n",
        "            image = cv2.resize(image, default_image_size)\n",
        "            return img_to_array(image)\n",
        "        else :\n",
        "            return np.array([])\n",
        "    except Exception as e:\n",
        "        print(\"Error : {e}\")\n",
        "        return None\n",
        "image_dir='/content/drive/My Drive/nail_dataset_new/nail_diseases/whitenail/14.PNG'\n",
        "img3 = cv2.imread('/content/drive/My Drive/nail_dataset_new/nail_diseases/whitenail/14.PNG')\n",
        "plt.imshow(img3)\n",
        "plt.show()"
      ]
    },
    {
      "cell_type": "code",
      "execution_count": null,
      "metadata": {
        "id": "fRU45hzKqbJf"
      },
      "outputs": [],
      "source": [
        "im=convert_image_to_array(image_dir)\n",
        "np_image_li = np.array(im, dtype=np.float16) / 225.0\n",
        "npp_image = np.expand_dims(np_image_li, axis=0)\n",
        "\n",
        "\n",
        "result= model.predict(npp_image)\n",
        "#print(result)\n",
        "\n",
        "itemindex = np.where(result==np.max(result))\n",
        "#print(itemindex[1][0])\n",
        "\n",
        "\n",
        "reverse_mapping = [\"Darier's disease\",\"Muehrck-e's lines\",'aloperia areata',\"beau's lines\",\n",
        " 'bluish nail', 'clubbing' ,'eczema',\n",
        " \"half and half nailes (Lindsay's nails)\" ,'koilonychia', 'leukonychia',\n",
        " 'onycholycis', 'pale nail' ,'red lunula', 'splinter hemmorrage',\n",
        " \"terry's nail\" ,'white nail', 'yellow nails']\n",
        "prediction_name = reverse_mapping[itemindex[1][0]]\n",
        "print(prediction_name)\n",
        "\n",
        "\n",
        "#printing result\n",
        "itemindex = np.where(result==np.max(result))\n",
        "print(\"Probability of \" + prediction_name + \"  is: \" +str(np.max(result)))\n",
        "print(\"Final Diagonasis result : \" +prediction_name)\n"
      ]
    }
  ],
  "metadata": {
    "accelerator": "GPU",
    "colab": {
      "collapsed_sections": [],
      "provenance": []
    },
    "kernelspec": {
      "display_name": "Python 3",
      "name": "python3"
    },
    "language_info": {
      "name": "python"
    }
  },
  "nbformat": 4,
  "nbformat_minor": 0
}